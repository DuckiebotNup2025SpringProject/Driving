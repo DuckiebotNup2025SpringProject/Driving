{
 "cells": [
  {
   "cell_type": "code",
   "id": "initial_id",
   "metadata": {
    "collapsed": true,
    "ExecuteTime": {
     "end_time": "2025-03-12T18:22:25.955930Z",
     "start_time": "2025-03-12T18:22:25.851424Z"
    }
   },
   "source": [
    "import numpy as np\n",
    "import matplotlib.pyplot as plt\n",
    "from scipy.interpolate import CubicSpline\n",
    "\n",
    "setofpoints = [(14.503082275390625, 20.772993087768555), (24.49747085571289, 20.730321884155273), (35.09474563598633, 15.608929634094238), (62.69521713256836, 23.07097625732422), (73.88245391845703, 17.738048553466797), (84.13788604736328, 17.624923706054688), (94.36758422851562, 17.60023307800293), (104.1479721069336, 20.776498794555664), (115.72522735595703, 15.552417755126953), (132.6474609375, 20.925451278686523), (144.0511932373047, 19.063739776611328), (154.29991149902344, 18.973447799682617), (165.0359344482422, 14.125260353088379), (172.67234802246094, 15.831439018249512), (184.22181701660156, 17.218555450439453), (195.21275329589844, 12.344099998474121), (204.01296997070312, 13.989795684814453), (214.2502899169922, 10.718965530395508), (224.83653259277344, 12.063108444213867), (233.5765380859375, 10.63058090209961), (244.1660614013672, 10.597185134887695), (253.37734985351562, 10.367303848266602)]\n",
    "\n",
    "\n",
    "\n",
    "# Sample points defining the curve\n",
    "points_x = []\n",
    "points_y = []\n",
    "\n",
    "for point in setofpoints:\n",
    "    points_x.append(point[0])\n",
    "    points_y.append(point[1])\n",
    "\n",
    "# Create a smooth path using cubic spline interpolation\n",
    "spline = CubicSpline(points_x, points_y)\n",
    "\n",
    "# Robot's starting position and heading\n",
    "robot_x, robot_y = 0, 0\n",
    "robot_theta = 0 # 45-degree angle\n",
    "\n",
    "# Simulation parameters\n",
    "lookahead_distance = 100\n",
    "dt = 0.1  # Time step\n",
    "velocity = 20  # Speed of the robot\n",
    "\n",
    "# Function to find the closest point on the spline path\n",
    "def get_lookahead_point(x, lookahead_distance):\n",
    "    closest_x = x + lookahead_distance\n",
    "    return closest_x, spline(closest_x)\n",
    "\n",
    "# Simulation loop\n",
    "trajectory_x, trajectory_y = [robot_x], [robot_y]\n",
    "\n",
    "for _ in range(50):  # Simulating 50 time steps\n",
    "    lookahead_x, lookahead_y = get_lookahead_point(robot_x, lookahead_distance)\n",
    "\n",
    "    # Calculate steering angle\n",
    "    angle_to_target = np.arctan2(lookahead_y - robot_y, lookahead_x - robot_x)\n",
    "    steering_angle = angle_to_target - robot_theta\n",
    "\n",
    "    # Move the robot\n",
    "    robot_x += velocity * np.cos(robot_theta) * dt\n",
    "    robot_y += velocity * np.sin(robot_theta) * dt\n",
    "    robot_theta += steering_angle * dt  # Adjust heading smoothly\n",
    "\n",
    "    # Store trajectory\n",
    "    trajectory_x.append(robot_x)\n",
    "    trajectory_y.append(robot_y)\n",
    "\n",
    "# Plot results\n",
    "plt.plot(points_x, points_y, 'ro-', label=\"Reference Path\")\n",
    "plt.plot(trajectory_x, trajectory_y, 'b-', label=\"Robot Path\")\n",
    "plt.legend()\n",
    "plt.xlabel(\"X\")\n",
    "plt.ylabel(\"Y\")\n",
    "plt.title(\"Robot Path Following using Pure Pursuit\")\n",
    "plt.show()\n"
   ],
   "outputs": [
    {
     "data": {
      "text/plain": [
       "<Figure size 432x288 with 1 Axes>"
      ],
      "image/png": "[encoded data removed]"
     },
     "metadata": {
      "needs_background": "light"
     },
     "output_type": "display_data"
    }
   ],
   "execution_count": 23
  },
  {
   "metadata": {},
   "cell_type": "code",
   "outputs": [],
   "execution_count": null,
   "source": "",
   "id": "47e76a64eb95c9da"
  }
 ],
 "metadata": {
  "kernelspec": {
   "display_name": "Python 3",
   "language": "python",
   "name": "python3"
  },
  "language_info": {
   "codemirror_mode": {
    "name": "ipython",
    "version": 2
   },
   "file_extension": ".py",
   "mimetype": "text/x-python",
   "name": "python",
   "nbconvert_exporter": "python",
   "pygments_lexer": "ipython2",
   "version": "2.7.6"
  }
 },
 "nbformat": 4,
 "nbformat_minor": 5
}
