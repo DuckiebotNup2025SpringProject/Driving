{
 "cells": [
  {
   "metadata": {
    "ExecuteTime": {
     "end_time": "2025-03-27T20:37:25.170062Z",
     "start_time": "2025-03-27T20:37:25.151194Z"
    }
   },
   "cell_type": "code",
   "source": [
    "import numpy as np\n",
    "import matplotlib.pyplot as plt\n",
    "from numpy import cos, sin\n",
    "\n",
    "setofpoints = [(14.503082275390625, 20.772993087768555), (24.49747085571289, 20.730321884155273), (35.09474563598633, 15.608929634094238), (62.69521713256836, 23.07097625732422), (73.88245391845703, 17.738048553466797), (84.13788604736328, 17.624923706054688), (94.36758422851562, 17.60023307800293), (104.1479721069336, 20.776498794555664), (115.72522735595703, 15.552417755126953), (132.6474609375, 20.925451278686523), (144.0511932373047, 19.063739776611328), (154.29991149902344, 18.973447799682617), (165.0359344482422, 14.125260353088379), (172.67234802246094, 15.831439018249512), (184.22181701660156, 17.218555450439453), (195.21275329589844, 12.344099998474121), (204.01296997070312, 13.989795684814453), (214.2502899169922, 10.718965530395508), (224.83653259277344, 12.063108444213867), (233.5765380859375, 10.63058090209961), (244.1660614013672, 10.597185134887695), (253.37734985351562, 10.367303848266602)]"
   ],
   "id": "6ac65c7045a8b30b",
   "outputs": [],
   "execution_count": 41
  },
  {
   "metadata": {
    "ExecuteTime": {
     "end_time": "2025-03-27T22:06:53.423797Z",
     "start_time": "2025-03-27T22:06:53.394894Z"
    }
   },
   "cell_type": "code",
   "source": [
    "# Sample points defining the curve\n",
    "points_x = []\n",
    "points_y = []\n",
    "\n",
    "for point in setofpoints:\n",
    "    points_x.append(point[0])\n",
    "    points_y.append(point[1])\n",
    "\n",
    "points_x = np.array(points_x)\n",
    "points_y = np.array(points_y)\n"
   ],
   "id": "1a228a5e4d0e0da9",
   "outputs": [],
   "execution_count": 94
  },
  {
   "cell_type": "code",
   "id": "initial_id",
   "metadata": {
    "collapsed": true,
    "ExecuteTime": {
     "end_time": "2025-03-27T22:08:49.990099Z",
     "start_time": "2025-03-27T22:08:49.916262Z"
    }
   },
   "source": [
    "coeffs = np.polyfit(points_x, points_y, 2)\n",
    "poly_quadratic = np.poly1d(coeffs)\n",
    "\n",
    "# Robot's starting position and heading\n",
    "robot_x, robot_y = 0, 0\n",
    "robot_theta = 0 # 45-degree angle\n",
    "\n",
    "# Simulation parameters\n",
    "lookahead_distance = 100\n",
    "dt = 0.1  # Time step\n",
    "velocity = 20  # Speed of the robot\n",
    "\n",
    "# Function to find the closest point on the spline path\n",
    "def get_lookahead_point(x, lookahead_distance):\n",
    "    closest_x = x + lookahead_distance\n",
    "    return closest_x, poly_quadratic(closest_x)\n",
    "\n",
    "# Simulation loop\n",
    "trajectory_x, trajectory_y = [robot_x], [robot_y]\n",
    "\n",
    "L = velocity * dt\n",
    "\n",
    "for _ in range(130):  # Simulating 50 time steps\n",
    "    lookahead_x, lookahead_y = get_lookahead_point(robot_x, lookahead_distance)\n",
    "\n",
    "    # Calculate steering angle\n",
    "    angle_to_target = np.arctan2(lookahead_y - robot_y, lookahead_x - robot_x)\n",
    "    steering_angle = (angle_to_target - robot_theta) * 0.1\n",
    "\n",
    "    if abs(steering_angle) < 0.001:\n",
    "        robot_x += velocity * cos(robot_theta) * dt\n",
    "        robot_y += velocity * sin(robot_theta) * dt\n",
    "\n",
    "    else:\n",
    "        shoulder = L / (steering_angle)\n",
    "\n",
    "        # Move the robot\n",
    "        robot_x += shoulder * (sin(robot_theta + steering_angle) - sin(robot_theta))\n",
    "        robot_y -= shoulder * (cos(robot_theta + steering_angle) - cos(robot_theta))\n",
    "\n",
    "        robot_theta += steering_angle  # Adjust heading smoothly\n",
    "\n",
    "    # Store trajectory\n",
    "    trajectory_x.append(robot_x)\n",
    "    trajectory_y.append(robot_y)"
   ],
   "outputs": [],
   "execution_count": 98
  },
  {
   "metadata": {
    "ExecuteTime": {
     "end_time": "2025-03-27T22:08:51.750869Z",
     "start_time": "2025-03-27T22:08:51.718374Z"
    }
   },
   "cell_type": "code",
   "source": [
    "x_smooth = np.linspace(points_x.min(), points_x.max(), 200)\n",
    "y_poly = poly_quadratic(x_smooth)"
   ],
   "id": "61f8f5c7a926dfe6",
   "outputs": [],
   "execution_count": 99
  },
  {
   "metadata": {
    "ExecuteTime": {
     "end_time": "2025-03-27T22:08:54.423593Z",
     "start_time": "2025-03-27T22:08:53.206827Z"
    }
   },
   "cell_type": "code",
   "source": [
    "# Plot results\n",
    "plt.plot(points_x, points_y, 'ro', label=\"Reference Path\")\n",
    "plt.plot(trajectory_x, trajectory_y, 'b-', label=\"Robot Path\")\n",
    "plt.plot(x_smooth, y_poly, label=\"Quadratic Fit\", linestyle='-.', color='green')\n",
    "plt.legend()\n",
    "plt.xlabel(\"X\")\n",
    "plt.ylabel(\"Y\")\n",
    "plt.title(\"Robot Path Following using Pure Pursuit\")\n",
    "plt.show()"
   ],
   "id": "89a26ecc0f2ab45a",
   "outputs": [
    {
     "data": {
      "text/plain": [
       "<Figure size 432x288 with 1 Axes>"
      ],
      "image/png": "[encoded data removed]"
     },
     "metadata": {
      "needs_background": "light"
     },
     "output_type": "display_data"
    }
   ],
   "execution_count": 100
  },
  {
   "metadata": {},
   "cell_type": "code",
   "outputs": [],
   "execution_count": null,
   "source": "",
   "id": "f8c1d495e35919b3"
  }
 ],
 "metadata": {
  "kernelspec": {
   "display_name": "Python 3",
   "language": "python",
   "name": "python3"
  },
  "language_info": {
   "codemirror_mode": {
    "name": "ipython",
    "version": 2
   },
   "file_extension": ".py",
   "mimetype": "text/x-python",
   "name": "python",
   "nbconvert_exporter": "python",
   "pygments_lexer": "ipython2",
   "version": "2.7.6"
  }
 },
 "nbformat": 4,
 "nbformat_minor": 5
}
